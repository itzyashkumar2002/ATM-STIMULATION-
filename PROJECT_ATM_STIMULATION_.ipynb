{
  "nbformat": 4,
  "nbformat_minor": 0,
  "metadata": {
    "colab": {
      "provenance": []
    },
    "kernelspec": {
      "name": "python3",
      "display_name": "Python 3"
    },
    "language_info": {
      "name": "python"
    }
  },
  "cells": [
    {
      "cell_type": "code",
      "source": [
        "name=input(\"plz enter your name :\")\n",
        "print(\"hello\",name)\n",
        "\n",
        "message=\"\"\"\n",
        "how may i help you sir or madam\n",
        "\n",
        "type 1>>>> check balance\n",
        "type 2>>>>deposit money\n",
        "type 3>>>> withdrawl money\n",
        "\"\"\"\n",
        "\n",
        "print (message)\n",
        "task=int (input(\" plz enter your option:\"))\n",
        "availabel_amount=5000\n",
        "\n",
        "if task>=1 and task<=3:\n",
        "  print(\"welcome in the bbob bank\")\n",
        "\n",
        "  #check balance\n",
        "  if task==1:\n",
        "    print(\"check your balance :\",availabel_amount)\n",
        "\n",
        "  #deposit money\n",
        "  elif  task==2:\n",
        "    deposit_amount=int(input(\"plz enter your deposit money: \"))\n",
        "\n",
        "\n",
        "    if deposit_amount>=500:\n",
        "      availabel_amount+=deposit_amount\n",
        "      print(\" your mney has been deposit in account: \",deposit_amount)\n",
        "      print(\"check your balance :\",availabel_amount)\n",
        "    else:\n",
        "      print(\"plz enter your deposit money above 500 rs \")\n",
        "\n",
        "\n",
        "  #withdrawl money\n",
        "  else:\n",
        "    withdrawl_amount=int(input(\"enter your withdraw money:\"))\n",
        "    if withdrawl_amount<=availabel_amount:\n",
        "      availabel_amount -= withdrawl_amount\n",
        "\n",
        "      print(\" your mney has been withdraw out in your  account: \",withdrawl_amount)\n",
        "      print(\"now your avialabel balance  :\",availabel_amount)\n",
        "\n",
        "\n",
        "    else:\n",
        "      print(\"you doesnot have enough money to withdraw !@#$%^^&&$#@#$%^\")\n",
        "\n",
        "\n",
        "else:\n",
        "  print (\" please choose corrrect option in betwwen 1-3!\")\n"
      ],
      "metadata": {
        "id": "w5ygsL5jJW6F",
        "colab": {
          "base_uri": "https://localhost:8080/"
        },
        "outputId": "5c45f706-990c-463d-cc90-38ddb5d0cece"
      },
      "execution_count": 1,
      "outputs": [
        {
          "output_type": "stream",
          "name": "stdout",
          "text": [
            "plz enter your name :yash\n",
            "hello yash\n",
            "\n",
            "how may i help you sir or madam\n",
            "\n",
            "type 1>>>> check balance\n",
            "type 2>>>>deposit money\n",
            "type 3>>>> withdrawl money\n",
            "\n",
            " plz enter your option:3\n",
            "welcome in the bbob bank\n",
            "enter your withdraw money:4590\n",
            " your mney has been withdraw out in your  account:  4590\n",
            "now your avialabel balance  : 410\n"
          ]
        }
      ]
    }
  ]
}